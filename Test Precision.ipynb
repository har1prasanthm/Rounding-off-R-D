{
 "cells": [
  {
   "cell_type": "code",
   "execution_count": 1,
   "id": "c79bc255",
   "metadata": {},
   "outputs": [],
   "source": [
    "from decimal import *\n",
    "import ipywidgets as widgets\n",
    "from IPython.display import display, clear_output\n",
    "\n",
    "ABS_TOL = Decimal('0.000001') #6 decimal point precision hence tolerance 0.000001\n",
    "ROUND_OFF_TO = Decimal('0.000001')"
   ]
  },
  {
   "cell_type": "code",
   "execution_count": 2,
   "id": "8f6ef08d",
   "metadata": {},
   "outputs": [],
   "source": [
    "def isclose(a, b, abs_tol=ABS_TOL, round_off_to=ROUND_OFF_TO):\n",
    "    \"\"\"\n",
    "    Determines whether two floating point numbers are close enough to be considered equal.\n",
    "    \n",
    "    Parameters:\n",
    "    a : The first floating point number to compare.\n",
    "    b : The second floating point number to compare.\n",
    "    abs_tol : The absolute tolerance for the comparison. If the absolute difference between a and b is less than or equal to this value, the numbers are considered close enough to be equal. Defaults to the value of ABS_TOL.\n",
    "    round_off_to : The number of decimal places to round the absolute difference to before comparing to the absolute tolerance. Defaults to the value of ROUND_OFF_TO.\n",
    "    \n",
    "    Returns:\n",
    "    bool: True if the absolute difference between a and b is less than or equal to abs_tol, False otherwise.\n",
    "    \"\"\"\n",
    "    diff= Decimal(str(abs(a-b))).quantize(ROUND_OFF_TO, rounding=ROUND_HALF_UP)\n",
    "    return diff <= abs_tol\n"
   ]
  },
  {
   "cell_type": "code",
   "execution_count": 3,
   "id": "392b528c",
   "metadata": {},
   "outputs": [],
   "source": [
    "class EverNumber:\n",
    "    def __init__(self, value):\n",
    "        self.value = value\n",
    "        \n",
    "    def __eq__(self, other):\n",
    "        return self.value == other.value or isclose(self.value, other.value)\n",
    "    \n",
    "    def __ne__(self, other):\n",
    "        return self.value != other.value and not isclose(self.value, other.value)\n",
    "    \n",
    "    def __lt__(self, other):\n",
    "        return self.value < other.value and not isclose(self.value, other.value)\n",
    "    \n",
    "    def __gt__(self, other):\n",
    "        return self.value > other.value and not isclose(self.value, other.value)\n",
    "    \n",
    "    def __le__(self, other):\n",
    "        return self.value <= other.value or isclose(self.value, other.value)\n",
    "    \n",
    "    def __ge__(self, other):\n",
    "        return self.value >= other.value or isclose(self.value, other.value)\n"
   ]
  },
  {
   "cell_type": "code",
   "execution_count": 6,
   "id": "ae343c70",
   "metadata": {},
   "outputs": [
    {
     "data": {
      "application/vnd.jupyter.widget-view+json": {
       "model_id": "daea2f786de04215ba6ac7ed84edb51a",
       "version_major": 2,
       "version_minor": 0
      },
      "text/plain": [
       "Output()"
      ]
     },
     "metadata": {},
     "output_type": "display_data"
    },
    {
     "data": {
      "application/vnd.jupyter.widget-view+json": {
       "model_id": "c112570bf7ca404ba150e8f73d275b5e",
       "version_major": 2,
       "version_minor": 0
      },
      "text/plain": [
       "FloatText(value=160.000001, description='A')"
      ]
     },
     "metadata": {},
     "output_type": "display_data"
    },
    {
     "data": {
      "application/vnd.jupyter.widget-view+json": {
       "model_id": "e3b8334432b04569a7636b3382abe997",
       "version_major": 2,
       "version_minor": 0
      },
      "text/plain": [
       "FloatText(value=160.0, description='B')"
      ]
     },
     "metadata": {},
     "output_type": "display_data"
    },
    {
     "data": {
      "application/vnd.jupyter.widget-view+json": {
       "model_id": "b7141310110e4ec8944845a8e9be22b2",
       "version_major": 2,
       "version_minor": 0
      },
      "text/plain": [
       "Button(description='Enter', style=ButtonStyle())"
      ]
     },
     "metadata": {},
     "output_type": "display_data"
    }
   ],
   "source": [
    "num1_input = widgets.FloatText(value=160.000001, description='A')\n",
    "num2_input = widgets.FloatText(value=160.000000, description='B')\n",
    "button = widgets.Button(description='Enter')\n",
    "\n",
    "\n",
    "out = widgets.Output()\n",
    "display(out)\n",
    "\n",
    "def evaluate(button):\n",
    "    with out:\n",
    "        clear_output()\n",
    "        num1 = EverNumber(num1_input.value)\n",
    "        num2 = EverNumber(num2_input.value)\n",
    "        \n",
    "        print(f\"Everstage tolerance : {ABS_TOL}\")\n",
    "        print()\n",
    "        \n",
    "        \n",
    "        print(f\" A == B  : {num1 == num2}\")\n",
    "        print(f\" A != B  : {num1 != num2}\")\n",
    "        print(f\" A <= B  : {num1 <= num2}\")\n",
    "        print(f\" A >= B  : {num1 >= num2}\")\n",
    "        print(f\"  A < B  : {num1 < num2}\")\n",
    "        print(f\"  A > B  : {num1 > num2}\")\n",
    "        \n",
    "        print()\n",
    "        print(f\"Difference   : {format(abs(num1.value - num2.value), '.32f')}\")\n",
    "        print(f\"Rounded diff : {Decimal(str(abs(num1.value-num2.value))).quantize(ROUND_OFF_TO, rounding=ROUND_HALF_UP)}\")\n",
    "\n",
    "    \n",
    "    \n",
    "\n",
    "button.on_click(evaluate)\n",
    "display(num1_input, num2_input, button)\n"
   ]
  }
 ],
 "metadata": {
  "kernelspec": {
   "display_name": "Django Shell-Plus",
   "language": "python",
   "name": "django_extensions"
  },
  "language_info": {
   "codemirror_mode": {
    "name": "ipython",
    "version": 3
   },
   "file_extension": ".py",
   "mimetype": "text/x-python",
   "name": "python",
   "nbconvert_exporter": "python",
   "pygments_lexer": "ipython3",
   "version": "3.9.7"
  }
 },
 "nbformat": 4,
 "nbformat_minor": 5
}
