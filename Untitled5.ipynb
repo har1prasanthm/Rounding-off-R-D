{
 "cells": [
  {
   "cell_type": "code",
   "execution_count": 1,
   "id": "b583d2ac",
   "metadata": {},
   "outputs": [],
   "source": [
    "import math\n",
    "from decimal import Decimal"
   ]
  },
  {
   "cell_type": "code",
   "execution_count": 2,
   "id": "55033369",
   "metadata": {},
   "outputs": [],
   "source": [
    "ABS_TOL = 0.1"
   ]
  },
  {
   "cell_type": "markdown",
   "id": "c4bcff50",
   "metadata": {},
   "source": [
    "## Everclose function"
   ]
  },
  {
   "cell_type": "code",
   "execution_count": 3,
   "id": "586007f7",
   "metadata": {},
   "outputs": [],
   "source": [
    "def everclose(a, b, force=False):\n",
    "    rounded_diff = round(Decimal(str(abs(a-b))), 1)\n",
    "    print(\"Difference -\", str(abs(a-b)))\n",
    "    if force:\n",
    "        return rounded_diff <= ABS_TOL\n",
    "    return math.isclose(a, b, abs_tol=ABS_TOL)"
   ]
  },
  {
   "cell_type": "markdown",
   "id": "e8a997a3",
   "metadata": {},
   "source": [
    "## Relative Tolereance (rel_tol) behavior"
   ]
  },
  {
   "cell_type": "code",
   "execution_count": 4,
   "id": "20c104d5",
   "metadata": {},
   "outputs": [
    {
     "data": {
      "text/plain": [
       "True"
      ]
     },
     "execution_count": 4,
     "metadata": {},
     "output_type": "execute_result"
    }
   ],
   "source": [
    "math.isclose(9, 10, rel_tol=0.1) # abs(a-b) / max(abs(a), abs(b)) <= rel_tol [0.1 <= 0.1]"
   ]
  },
  {
   "cell_type": "code",
   "execution_count": 5,
   "id": "3a37e190",
   "metadata": {},
   "outputs": [
    {
     "data": {
      "text/plain": [
       "False"
      ]
     },
     "execution_count": 5,
     "metadata": {},
     "output_type": "execute_result"
    }
   ],
   "source": [
    "math.isclose(1, 2, rel_tol=0.1) # abs(a-b) / max(abs(a), abs(b)) <= rel_tol [0.5 not <= 0.1]"
   ]
  },
  {
   "cell_type": "markdown",
   "id": "bc5f4cb0",
   "metadata": {},
   "source": [
    "## Absolute Tolereance (abs_tol) behavior"
   ]
  },
  {
   "cell_type": "code",
   "execution_count": 6,
   "id": "98d5412f",
   "metadata": {},
   "outputs": [
    {
     "name": "stdout",
     "output_type": "stream",
     "text": [
      "1\n"
     ]
    },
    {
     "data": {
      "text/plain": [
       "False"
      ]
     },
     "execution_count": 6,
     "metadata": {},
     "output_type": "execute_result"
    }
   ],
   "source": [
    "print(abs(9-10))\n",
    "\n",
    "math.isclose(9, 10, abs_tol=0.1)"
   ]
  },
  {
   "cell_type": "code",
   "execution_count": 7,
   "id": "ecb05bbc",
   "metadata": {},
   "outputs": [
    {
     "name": "stdout",
     "output_type": "stream",
     "text": [
      "1\n"
     ]
    },
    {
     "data": {
      "text/plain": [
       "False"
      ]
     },
     "execution_count": 7,
     "metadata": {},
     "output_type": "execute_result"
    }
   ],
   "source": [
    "print(abs(1-2))\n",
    "\n",
    "math.isclose(1, 2, abs_tol=0.1)"
   ]
  },
  {
   "cell_type": "code",
   "execution_count": 8,
   "id": "f729a7b1",
   "metadata": {},
   "outputs": [
    {
     "name": "stdout",
     "output_type": "stream",
     "text": [
      "0.1\n"
     ]
    },
    {
     "data": {
      "text/plain": [
       "True"
      ]
     },
     "execution_count": 8,
     "metadata": {},
     "output_type": "execute_result"
    }
   ],
   "source": [
    "print(abs(0.1-0.2))\n",
    "\n",
    "math.isclose(0.1, 0.2, abs_tol=0.1)"
   ]
  },
  {
   "cell_type": "code",
   "execution_count": 9,
   "id": "1554401a",
   "metadata": {},
   "outputs": [
    {
     "name": "stdout",
     "output_type": "stream",
     "text": [
      "0.09833333333335759\n"
     ]
    },
    {
     "data": {
      "text/plain": [
       "True"
      ]
     },
     "execution_count": 9,
     "metadata": {},
     "output_type": "execute_result"
    }
   ],
   "source": [
    "print(abs(6113.27666666666666669-6113.3750000000001))\n",
    "\n",
    "math.isclose(6113.27666666666666669, 6113.3750000000001, abs_tol=0.1) # Rhs ranges from 6113.3 - 6113.4 are close"
   ]
  },
  {
   "cell_type": "code",
   "execution_count": 10,
   "id": "85a2496a",
   "metadata": {},
   "outputs": [
    {
     "name": "stdout",
     "output_type": "stream",
     "text": [
      "0.09833333333335759\n"
     ]
    },
    {
     "data": {
      "text/plain": [
       "False"
      ]
     },
     "execution_count": 10,
     "metadata": {},
     "output_type": "execute_result"
    }
   ],
   "source": [
    "print(abs(6113.27666666666666669-6113.3750000000001))\n",
    "\n",
    "math.isclose(6113.27666666666666669, 6113.3750000000001, abs_tol=0.01) "
   ]
  },
  {
   "cell_type": "markdown",
   "id": "7c7dfe36",
   "metadata": {},
   "source": [
    "## Custom flag to overcome abs_tol weird behavior"
   ]
  },
  {
   "cell_type": "code",
   "execution_count": 11,
   "id": "47cc1873",
   "metadata": {},
   "outputs": [
    {
     "name": "stdout",
     "output_type": "stream",
     "text": [
      "Difference - 0.1000000000003638\n",
      "False\n",
      "Difference - 0.0999999999994543\n",
      "True\n",
      "Difference - 0.1000000000003638\n",
      "False\n",
      "Difference - 0.1000000000003638\n",
      "False\n",
      "Difference - 0.0999999999994543\n",
      "True\n",
      "Difference - 0.1000000000003638\n",
      "False\n",
      "Difference - 0.0999999999994543\n",
      "True\n"
     ]
    }
   ],
   "source": [
    "print(everclose(6113.2, 6113.3))\n",
    "print(everclose(6113.3, 6113.4))\n",
    "print(everclose(6113.4, 6113.5))\n",
    "print(everclose(6113.5, 6113.6))\n",
    "print(everclose(6113.6, 6113.7))\n",
    "print(everclose(6113.7, 6113.8))\n",
    "print(everclose(6113.8, 6113.9))"
   ]
  },
  {
   "cell_type": "code",
   "execution_count": 12,
   "id": "19aeb44f",
   "metadata": {},
   "outputs": [
    {
     "name": "stdout",
     "output_type": "stream",
     "text": [
      "Difference - 0.1000000000003638\n",
      "True\n",
      "Difference - 0.0999999999994543\n",
      "True\n",
      "Difference - 0.1000000000003638\n",
      "True\n",
      "Difference - 0.1000000000003638\n",
      "True\n",
      "Difference - 0.0999999999994543\n",
      "True\n",
      "Difference - 0.1000000000003638\n",
      "True\n",
      "Difference - 0.0999999999994543\n",
      "True\n"
     ]
    }
   ],
   "source": [
    "print(everclose(6113.2, 6113.3, force=True))\n",
    "print(everclose(6113.3, 6113.4, force=True))\n",
    "print(everclose(6113.4, 6113.5, force=True))\n",
    "print(everclose(6113.5, 6113.6, force=True))\n",
    "print(everclose(6113.6, 6113.7, force=True))\n",
    "print(everclose(6113.7, 6113.8, force=True))\n",
    "print(everclose(6113.8, 6113.9, force=True))"
   ]
  },
  {
   "cell_type": "markdown",
   "id": "af1a2c15",
   "metadata": {},
   "source": [
    "## Rounding off LHS,RHS then comparing"
   ]
  },
  {
   "cell_type": "code",
   "execution_count": 13,
   "id": "e2655263",
   "metadata": {},
   "outputs": [
    {
     "name": "stdout",
     "output_type": "stream",
     "text": [
      "6113.2 6113.2\n"
     ]
    },
    {
     "data": {
      "text/plain": [
       "False"
      ]
     },
     "execution_count": 13,
     "metadata": {},
     "output_type": "execute_result"
    }
   ],
   "source": [
    "#Issue when rounding off to 1 decimal place.\n",
    "\n",
    "v = round(Decimal(str(6113.250)), 1) # >5   \n",
    "v1 = round(Decimal(str(6113.25)), 1) # >5\n",
    "print(v, v1)\n",
    "v < v1"
   ]
  },
  {
   "cell_type": "code",
   "execution_count": 14,
   "id": "f1ee14e7",
   "metadata": {},
   "outputs": [
    {
     "name": "stdout",
     "output_type": "stream",
     "text": [
      "6113.26 6113.27\n"
     ]
    },
    {
     "data": {
      "text/plain": [
       "True"
      ]
     },
     "execution_count": 14,
     "metadata": {},
     "output_type": "execute_result"
    }
   ],
   "source": [
    "#rounding off to 2 decimal places.\n",
    "\n",
    "v = round(Decimal(str(6113.255)), 2) # >=5   \n",
    "v1 = round(Decimal(str(6113.266)), 2) # >=5\n",
    "print(v, v1)\n",
    "v < v1"
   ]
  },
  {
   "cell_type": "markdown",
   "id": "dcadf1cf",
   "metadata": {},
   "source": [
    "## Example Commission Calculation"
   ]
  },
  {
   "cell_type": "code",
   "execution_count": 15,
   "id": "deef287e",
   "metadata": {},
   "outputs": [],
   "source": [
    "def comm_calc(calc_amount, standard_amount, force=False):\n",
    "    \n",
    "    if everclose(calc_amount, standard_amount, force=force):\n",
    "        print(\"Close enough.\")\n",
    "        calc_amount = standard_amount #LHS=RHS\n",
    "    \n",
    "    if calc_amount < standard_amount:\n",
    "        print(\"Commission = 100 rs\")\n",
    "    else:\n",
    "        print(\"Commission = 0 rs\")\n"
   ]
  },
  {
   "cell_type": "code",
   "execution_count": 16,
   "id": "01cd9325",
   "metadata": {},
   "outputs": [
    {
     "name": "stdout",
     "output_type": "stream",
     "text": [
      "Difference - 9.999999997489795e-05\n",
      "Close enough.\n",
      "Commission = 0 rs\n"
     ]
    }
   ],
   "source": [
    "comm_calc(1848.6999, 1848.7)"
   ]
  },
  {
   "cell_type": "code",
   "execution_count": 17,
   "id": "586047c3",
   "metadata": {},
   "outputs": [
    {
     "name": "stdout",
     "output_type": "stream",
     "text": [
      "Difference - 0.10000000000013642\n",
      "Commission = 100 rs\n"
     ]
    }
   ],
   "source": [
    "comm_calc(1848.3, 1848.4)"
   ]
  },
  {
   "cell_type": "code",
   "execution_count": 18,
   "id": "41189f38",
   "metadata": {},
   "outputs": [
    {
     "name": "stdout",
     "output_type": "stream",
     "text": [
      "Difference - 0.06989999999996144\n",
      "Close enough.\n",
      "Commission = 0 rs\n"
     ]
    }
   ],
   "source": [
    "comm_calc(1848.2001, 1848.27)"
   ]
  },
  {
   "cell_type": "code",
   "execution_count": 19,
   "id": "9f47c514",
   "metadata": {},
   "outputs": [
    {
     "name": "stdout",
     "output_type": "stream",
     "text": [
      "Difference - 0\n",
      "Close enough.\n",
      "Commission = 0 rs\n"
     ]
    }
   ],
   "source": [
    "comm_calc(6112, 6112)"
   ]
  },
  {
   "cell_type": "code",
   "execution_count": 20,
   "id": "f00ac164",
   "metadata": {},
   "outputs": [
    {
     "name": "stdout",
     "output_type": "stream",
     "text": [
      "Difference - 1e-06\n",
      "Close enough.\n",
      "Commission = 0 rs\n"
     ]
    }
   ],
   "source": [
    "comm_calc(0.000002, 0.000001)"
   ]
  }
 ],
 "metadata": {
  "kernelspec": {
   "display_name": "Django Shell-Plus",
   "language": "python",
   "name": "django_extensions"
  },
  "language_info": {
   "codemirror_mode": {
    "name": "ipython",
    "version": 3
   },
   "file_extension": ".py",
   "mimetype": "text/x-python",
   "name": "python",
   "nbconvert_exporter": "python",
   "pygments_lexer": "ipython3",
   "version": "3.9.7"
  }
 },
 "nbformat": 4,
 "nbformat_minor": 5
}
